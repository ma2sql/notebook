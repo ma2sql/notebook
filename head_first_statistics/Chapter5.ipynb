{
 "cells": [
  {
   "cell_type": "markdown",
   "metadata": {},
   "source": [
    "# 이산확률분포"
   ]
  },
  {
   "cell_type": "markdown",
   "metadata": {},
   "source": [
    "**확률분포**는 특정 변수가 가질 수 있는 모든 가능한 값들의 확률을 나타낸다."
   ]
  },
  {
   "cell_type": "markdown",
   "metadata": {},
   "source": [
    "**기대치**는 장기적으로 보았을 때 평균적인 결과\n",
    "\n",
    "$\\text{E}\\left(X\\right)=\\sum_{i}{x_i P\\left(X=x_i\\right)}$"
   ]
  },
  {
   "cell_type": "markdown",
   "metadata": {},
   "source": [
    "**X함수의 기대치는**\n",
    "\n",
    "$\\text{E}\\left(f(x)\\right)=\\sum_{i}f(x_i)P\\left(X=x_i\\right)$"
   ]
  },
  {
   "cell_type": "markdown",
   "metadata": {},
   "source": [
    "**확률분포의 분산**은 \n",
    "\n",
    "$\\text{Var}\\left(X\\right)=\\text{E}(X-\\mu)^2$"
   ]
  },
  {
   "cell_type": "markdown",
   "metadata": {},
   "source": [
    "**확률분포의 표준편차**는 \n",
    "\n",
    "$\\sigma=\\sqrt{\\text{Var}(X)}$"
   ]
  },
  {
   "cell_type": "markdown",
   "metadata": {},
   "source": [
    "**선현변환**은 a와 b가 상수라고 했을 때, X와 aX+b로 변환되는 것을 의미합니다.\n",
    "기대치와 분산은 다음과 같이 주어집니다.\n",
    "\n",
    "$\\text{E}\\left(ax+b\\right)=a\\text{E}\\left(X\\right)+b$\n",
    "\n",
    "$\\text{Var}\\left(aX+b\\right)=a^2 \\text{Var}\\left(X\\right)^2$"
   ]
  }
 ],
 "metadata": {
  "kernelspec": {
   "display_name": "Python 2",
   "language": "python",
   "name": "python2"
  },
  "language_info": {
   "codemirror_mode": {
    "name": "ipython",
    "version": 2
   },
   "file_extension": ".py",
   "mimetype": "text/x-python",
   "name": "python",
   "nbconvert_exporter": "python",
   "pygments_lexer": "ipython2",
   "version": "2.7.13"
  }
 },
 "nbformat": 4,
 "nbformat_minor": 0
}
